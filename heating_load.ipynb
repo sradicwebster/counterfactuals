{
 "cells": [
  {
   "cell_type": "code",
   "execution_count": 935,
   "metadata": {},
   "outputs": [],
   "source": [
    "import pandas as pd\n",
    "import numpy as np\n",
    "\n",
    "from scipy import stats\n",
    "from scipy.optimize import minimize\n",
    "from scipy.stats import gaussian_kde\n",
    "\n",
    "from sklearn.svm import SVR\n",
    "from sklearn import linear_model\n",
    "from sklearn.model_selection import cross_val_score\n",
    "from sklearn.svm import SVR\n",
    "from sklearn.ensemble import RandomForestRegressor\n",
    "from sklearn.preprocessing import MinMaxScaler\n",
    "from sklearn.neighbors import DistanceMetric\n",
    "\n",
    "import networkx as nx\n",
    "\n",
    "import matplotlib.pyplot as plt"
   ]
  },
  {
   "cell_type": "code",
   "execution_count": 976,
   "metadata": {},
   "outputs": [
    {
     "data": {
      "text/html": [
       "<div>\n",
       "<style scoped>\n",
       "    .dataframe tbody tr th:only-of-type {\n",
       "        vertical-align: middle;\n",
       "    }\n",
       "\n",
       "    .dataframe tbody tr th {\n",
       "        vertical-align: top;\n",
       "    }\n",
       "\n",
       "    .dataframe thead th {\n",
       "        text-align: right;\n",
       "    }\n",
       "</style>\n",
       "<table border=\"1\" class=\"dataframe\">\n",
       "  <thead>\n",
       "    <tr style=\"text-align: right;\">\n",
       "      <th></th>\n",
       "      <th>X1</th>\n",
       "      <th>X2</th>\n",
       "      <th>X3</th>\n",
       "      <th>X4</th>\n",
       "      <th>X5</th>\n",
       "      <th>X6</th>\n",
       "      <th>X7</th>\n",
       "      <th>X8</th>\n",
       "      <th>Y1</th>\n",
       "    </tr>\n",
       "  </thead>\n",
       "  <tbody>\n",
       "    <tr>\n",
       "      <td>0</td>\n",
       "      <td>0.98</td>\n",
       "      <td>514.5</td>\n",
       "      <td>294.0</td>\n",
       "      <td>110.25</td>\n",
       "      <td>7.0</td>\n",
       "      <td>2</td>\n",
       "      <td>0.0</td>\n",
       "      <td>0</td>\n",
       "      <td>15.55</td>\n",
       "    </tr>\n",
       "    <tr>\n",
       "      <td>1</td>\n",
       "      <td>0.98</td>\n",
       "      <td>514.5</td>\n",
       "      <td>294.0</td>\n",
       "      <td>110.25</td>\n",
       "      <td>7.0</td>\n",
       "      <td>3</td>\n",
       "      <td>0.0</td>\n",
       "      <td>0</td>\n",
       "      <td>15.55</td>\n",
       "    </tr>\n",
       "    <tr>\n",
       "      <td>2</td>\n",
       "      <td>0.98</td>\n",
       "      <td>514.5</td>\n",
       "      <td>294.0</td>\n",
       "      <td>110.25</td>\n",
       "      <td>7.0</td>\n",
       "      <td>4</td>\n",
       "      <td>0.0</td>\n",
       "      <td>0</td>\n",
       "      <td>15.55</td>\n",
       "    </tr>\n",
       "    <tr>\n",
       "      <td>3</td>\n",
       "      <td>0.98</td>\n",
       "      <td>514.5</td>\n",
       "      <td>294.0</td>\n",
       "      <td>110.25</td>\n",
       "      <td>7.0</td>\n",
       "      <td>5</td>\n",
       "      <td>0.0</td>\n",
       "      <td>0</td>\n",
       "      <td>15.55</td>\n",
       "    </tr>\n",
       "    <tr>\n",
       "      <td>4</td>\n",
       "      <td>0.90</td>\n",
       "      <td>563.5</td>\n",
       "      <td>318.5</td>\n",
       "      <td>122.50</td>\n",
       "      <td>7.0</td>\n",
       "      <td>2</td>\n",
       "      <td>0.0</td>\n",
       "      <td>0</td>\n",
       "      <td>20.84</td>\n",
       "    </tr>\n",
       "  </tbody>\n",
       "</table>\n",
       "</div>"
      ],
      "text/plain": [
       "     X1     X2     X3      X4   X5  X6   X7  X8     Y1\n",
       "0  0.98  514.5  294.0  110.25  7.0   2  0.0   0  15.55\n",
       "1  0.98  514.5  294.0  110.25  7.0   3  0.0   0  15.55\n",
       "2  0.98  514.5  294.0  110.25  7.0   4  0.0   0  15.55\n",
       "3  0.98  514.5  294.0  110.25  7.0   5  0.0   0  15.55\n",
       "4  0.90  563.5  318.5  122.50  7.0   2  0.0   0  20.84"
      ]
     },
     "execution_count": 976,
     "metadata": {},
     "output_type": "execute_result"
    }
   ],
   "source": [
    "data = pd.read_excel('ENB2012_data.xlsx')\n",
    "del data['Y2']\n",
    "data.head()"
   ]
  },
  {
   "cell_type": "code",
   "execution_count": 977,
   "metadata": {},
   "outputs": [
    {
     "data": {
      "text/plain": [
       "(768, 9)"
      ]
     },
     "execution_count": 977,
     "metadata": {},
     "output_type": "execute_result"
    }
   ],
   "source": [
    "data.shape"
   ]
  },
  {
   "cell_type": "code",
   "execution_count": 978,
   "metadata": {},
   "outputs": [
    {
     "data": {
      "text/html": [
       "<div>\n",
       "<style scoped>\n",
       "    .dataframe tbody tr th:only-of-type {\n",
       "        vertical-align: middle;\n",
       "    }\n",
       "\n",
       "    .dataframe tbody tr th {\n",
       "        vertical-align: top;\n",
       "    }\n",
       "\n",
       "    .dataframe thead th {\n",
       "        text-align: right;\n",
       "    }\n",
       "</style>\n",
       "<table border=\"1\" class=\"dataframe\">\n",
       "  <thead>\n",
       "    <tr style=\"text-align: right;\">\n",
       "      <th></th>\n",
       "      <th>X1</th>\n",
       "      <th>X2</th>\n",
       "      <th>X3</th>\n",
       "      <th>X4</th>\n",
       "      <th>X5</th>\n",
       "      <th>X6</th>\n",
       "      <th>X7</th>\n",
       "      <th>X8</th>\n",
       "      <th>Y1</th>\n",
       "    </tr>\n",
       "  </thead>\n",
       "  <tbody>\n",
       "    <tr>\n",
       "      <td>count</td>\n",
       "      <td>768.000000</td>\n",
       "      <td>768.000000</td>\n",
       "      <td>768.000000</td>\n",
       "      <td>768.000000</td>\n",
       "      <td>768.00000</td>\n",
       "      <td>768.000000</td>\n",
       "      <td>768.000000</td>\n",
       "      <td>768.00000</td>\n",
       "      <td>768.000000</td>\n",
       "    </tr>\n",
       "    <tr>\n",
       "      <td>mean</td>\n",
       "      <td>0.764167</td>\n",
       "      <td>671.708333</td>\n",
       "      <td>318.500000</td>\n",
       "      <td>176.604167</td>\n",
       "      <td>5.25000</td>\n",
       "      <td>3.500000</td>\n",
       "      <td>0.234375</td>\n",
       "      <td>2.81250</td>\n",
       "      <td>22.307195</td>\n",
       "    </tr>\n",
       "    <tr>\n",
       "      <td>std</td>\n",
       "      <td>0.105777</td>\n",
       "      <td>88.086116</td>\n",
       "      <td>43.626481</td>\n",
       "      <td>45.165950</td>\n",
       "      <td>1.75114</td>\n",
       "      <td>1.118763</td>\n",
       "      <td>0.133221</td>\n",
       "      <td>1.55096</td>\n",
       "      <td>10.090204</td>\n",
       "    </tr>\n",
       "    <tr>\n",
       "      <td>min</td>\n",
       "      <td>0.620000</td>\n",
       "      <td>514.500000</td>\n",
       "      <td>245.000000</td>\n",
       "      <td>110.250000</td>\n",
       "      <td>3.50000</td>\n",
       "      <td>2.000000</td>\n",
       "      <td>0.000000</td>\n",
       "      <td>0.00000</td>\n",
       "      <td>6.010000</td>\n",
       "    </tr>\n",
       "    <tr>\n",
       "      <td>25%</td>\n",
       "      <td>0.682500</td>\n",
       "      <td>606.375000</td>\n",
       "      <td>294.000000</td>\n",
       "      <td>140.875000</td>\n",
       "      <td>3.50000</td>\n",
       "      <td>2.750000</td>\n",
       "      <td>0.100000</td>\n",
       "      <td>1.75000</td>\n",
       "      <td>12.992500</td>\n",
       "    </tr>\n",
       "    <tr>\n",
       "      <td>50%</td>\n",
       "      <td>0.750000</td>\n",
       "      <td>673.750000</td>\n",
       "      <td>318.500000</td>\n",
       "      <td>183.750000</td>\n",
       "      <td>5.25000</td>\n",
       "      <td>3.500000</td>\n",
       "      <td>0.250000</td>\n",
       "      <td>3.00000</td>\n",
       "      <td>18.950000</td>\n",
       "    </tr>\n",
       "    <tr>\n",
       "      <td>75%</td>\n",
       "      <td>0.830000</td>\n",
       "      <td>741.125000</td>\n",
       "      <td>343.000000</td>\n",
       "      <td>220.500000</td>\n",
       "      <td>7.00000</td>\n",
       "      <td>4.250000</td>\n",
       "      <td>0.400000</td>\n",
       "      <td>4.00000</td>\n",
       "      <td>31.667500</td>\n",
       "    </tr>\n",
       "    <tr>\n",
       "      <td>max</td>\n",
       "      <td>0.980000</td>\n",
       "      <td>808.500000</td>\n",
       "      <td>416.500000</td>\n",
       "      <td>220.500000</td>\n",
       "      <td>7.00000</td>\n",
       "      <td>5.000000</td>\n",
       "      <td>0.400000</td>\n",
       "      <td>5.00000</td>\n",
       "      <td>43.100000</td>\n",
       "    </tr>\n",
       "  </tbody>\n",
       "</table>\n",
       "</div>"
      ],
      "text/plain": [
       "               X1          X2          X3          X4         X5          X6  \\\n",
       "count  768.000000  768.000000  768.000000  768.000000  768.00000  768.000000   \n",
       "mean     0.764167  671.708333  318.500000  176.604167    5.25000    3.500000   \n",
       "std      0.105777   88.086116   43.626481   45.165950    1.75114    1.118763   \n",
       "min      0.620000  514.500000  245.000000  110.250000    3.50000    2.000000   \n",
       "25%      0.682500  606.375000  294.000000  140.875000    3.50000    2.750000   \n",
       "50%      0.750000  673.750000  318.500000  183.750000    5.25000    3.500000   \n",
       "75%      0.830000  741.125000  343.000000  220.500000    7.00000    4.250000   \n",
       "max      0.980000  808.500000  416.500000  220.500000    7.00000    5.000000   \n",
       "\n",
       "               X7         X8          Y1  \n",
       "count  768.000000  768.00000  768.000000  \n",
       "mean     0.234375    2.81250   22.307195  \n",
       "std      0.133221    1.55096   10.090204  \n",
       "min      0.000000    0.00000    6.010000  \n",
       "25%      0.100000    1.75000   12.992500  \n",
       "50%      0.250000    3.00000   18.950000  \n",
       "75%      0.400000    4.00000   31.667500  \n",
       "max      0.400000    5.00000   43.100000  "
      ]
     },
     "execution_count": 978,
     "metadata": {},
     "output_type": "execute_result"
    }
   ],
   "source": [
    "data.describe()"
   ]
  },
  {
   "cell_type": "code",
   "execution_count": 979,
   "metadata": {},
   "outputs": [],
   "source": [
    "X = data[['X1','X2','X3','X4','X5','X6','X7','X8']]\n",
    "y = data[['Y1']]\n",
    "\n",
    "scaler_X = MinMaxScaler().fit(X)\n",
    "X_scaled = pd.DataFrame(scaler_X.transform(X), columns=['X1','X2','X3','X4','X5','X6','X7','X8'])\n",
    "\n",
    "scaler_y = MinMaxScaler().fit(y)\n",
    "y_scaled = pd.DataFrame(scaler_y.transform(y), columns=['Y1'])"
   ]
  },
  {
   "cell_type": "code",
   "execution_count": 980,
   "metadata": {},
   "outputs": [],
   "source": [
    "regr = linear_model.LinearRegression()\n",
    "svm = SVR(gamma='scale', C=2, epsilon=0.1)\n",
    "ran_for = RandomForestRegressor(n_estimators=100)"
   ]
  },
  {
   "cell_type": "code",
   "execution_count": 981,
   "metadata": {},
   "outputs": [
    {
     "name": "stdout",
     "output_type": "stream",
     "text": [
      "LinearRegression(copy_X=True, fit_intercept=True, n_jobs=None, normalize=False)\n",
      "Mean score:  0.06224443840639384\n",
      "SD: 0.009799382829484463\n",
      "\n",
      "\n",
      "SVR(C=2, cache_size=200, coef0=0.0, degree=3, epsilon=0.1, gamma='scale',\n",
      "    kernel='rbf', max_iter=-1, shrinking=True, tol=0.001, verbose=False)\n",
      "Mean score:  0.07959787502500451\n",
      "SD: 0.03290389924038814\n",
      "\n",
      "\n",
      "RandomForestRegressor(bootstrap=True, criterion='mse', max_depth=None,\n",
      "                      max_features='auto', max_leaf_nodes=None,\n",
      "                      min_impurity_decrease=0.0, min_impurity_split=None,\n",
      "                      min_samples_leaf=1, min_samples_split=2,\n",
      "                      min_weight_fraction_leaf=0.0, n_estimators=100,\n",
      "                      n_jobs=None, oob_score=False, random_state=None,\n",
      "                      verbose=0, warm_start=False)\n",
      "Mean score:  0.021175149797012953\n",
      "SD: 0.01850601174652489\n",
      "\n",
      "\n"
     ]
    }
   ],
   "source": [
    "model = [regr, svm, ran_for]\n",
    "for mod in model:\n",
    "    print(mod)\n",
    "    scores = cross_val_score(mod, X_scaled, y_scaled.values.ravel(), scoring='neg_mean_absolute_error', cv=5)\n",
    "    print('Mean score: ', -scores.mean())\n",
    "    print('SD:', scores.std())\n",
    "    print('\\n')"
   ]
  },
  {
   "cell_type": "code",
   "execution_count": 982,
   "metadata": {},
   "outputs": [
    {
     "data": {
      "text/plain": [
       "RandomForestRegressor(bootstrap=True, criterion='mse', max_depth=None,\n",
       "                      max_features='auto', max_leaf_nodes=None,\n",
       "                      min_impurity_decrease=0.0, min_impurity_split=None,\n",
       "                      min_samples_leaf=1, min_samples_split=2,\n",
       "                      min_weight_fraction_leaf=0.0, n_estimators=100,\n",
       "                      n_jobs=None, oob_score=False, random_state=None,\n",
       "                      verbose=0, warm_start=False)"
      ]
     },
     "execution_count": 982,
     "metadata": {},
     "output_type": "execute_result"
    }
   ],
   "source": [
    "ran_for.fit(X_scaled, y_scaled.values.ravel())"
   ]
  },
  {
   "cell_type": "code",
   "execution_count": 983,
   "metadata": {},
   "outputs": [
    {
     "name": "stdout",
     "output_type": "stream",
     "text": [
      "X1 values:  [array([0.62, 0.64, 0.66, 0.69, 0.71, 0.74, 0.76, 0.79, 0.82, 0.86, 0.9 ,\n",
      "       0.98])]\n",
      "X2 values:  [array([514.5, 563.5, 588. , 612.5, 637. , 661.5, 686. , 710.5, 735. ,\n",
      "       759.5, 784. , 808.5])]\n",
      "X3 values:  [array([245. , 269.5, 294. , 318.5, 343. , 367.5, 416.5])]\n",
      "X4 values:  [array([110.25, 122.5 , 147.  , 220.5 ])]\n",
      "X5 values:  [array([3.5, 7. ])]\n",
      "X6 values:  [array([2, 3, 4, 5])]\n",
      "X7 values:  [array([0.  , 0.1 , 0.25, 0.4 ])]\n",
      "X8 values:  [array([0, 1, 2, 3, 4, 5])]\n"
     ]
    }
   ],
   "source": [
    "for col in list(data)[:8]:\n",
    "    print(f'{col} values: ',[np.sort(data[col].unique())])"
   ]
  },
  {
   "cell_type": "code",
   "execution_count": 984,
   "metadata": {},
   "outputs": [],
   "source": [
    "dist = DistanceMetric.get_metric('manhattan')\n",
    "np.set_printoptions(suppress=True)"
   ]
  },
  {
   "cell_type": "code",
   "execution_count": 1057,
   "metadata": {},
   "outputs": [
    {
     "data": {
      "text/plain": [
       "array([[34.44]])"
      ]
     },
     "execution_count": 1057,
     "metadata": {},
     "output_type": "execute_result"
    }
   ],
   "source": [
    "example = np.array([0.82, 637, 367.5, 122.5, 7, 4, 0.25, 4]).reshape(1, -1)\n",
    "eg_scaled = scaler_X.transform(example)\n",
    "eg_score = ran_for.predict(eg_scaled)\n",
    "eg_HL = scaler_y.inverse_transform(eg_score.reshape(1, -1))\n",
    "eg_HL"
   ]
  },
  {
   "cell_type": "code",
   "execution_count": 1064,
   "metadata": {},
   "outputs": [
    {
     "data": {
      "text/plain": [
       "array([[27.552]])"
      ]
     },
     "execution_count": 1064,
     "metadata": {},
     "output_type": "execute_result"
    }
   ],
   "source": [
    "HL_target = 0.80*eg_HL\n",
    "HL_target"
   ]
  },
  {
   "cell_type": "code",
   "execution_count": 1065,
   "metadata": {},
   "outputs": [
    {
     "name": "stdout",
     "output_type": "stream",
     "text": [
      "Nearest neighbour  [  0.76 661.5  416.5  122.5    7.     4.     0.     0.  ]\n",
      "cf HL 24.77\n"
     ]
    }
   ],
   "source": [
    "# nearest neighbour\n",
    "counter_data = data[data['Y1'] <= HL_target[0][0]]\n",
    "counter_data.reset_index(drop=True, inplace=True)\n",
    "distances = dist.pairwise(counter_data[['X1','X2','X3','X4','X5','X6','X7','X8']], example)\n",
    "min_dist_index = np.argmin(distances)\n",
    "cf_nn = counter_data.loc[min_dist_index][:8].values\n",
    "cf_nn_HL = counter_data.loc[min_dist_index][-1]\n",
    "print('Nearest neighbour ',cf_nn)\n",
    "print('cf HL',cf_nn_HL)"
   ]
  },
  {
   "cell_type": "code",
   "execution_count": 1031,
   "metadata": {},
   "outputs": [],
   "source": [
    "def dist_mad(cf, eg):\n",
    "    manhat = [cdist(eg.T, cf.reshape(1,-1).T ,metric='cityblock')[i][i] for i in range(len(eg.T))]\n",
    "    mad = stats.median_absolute_deviation(X)\n",
    "    return sum(manhat/mad)\n",
    "\n",
    "def loss_function_mad(x_dash):\n",
    "    L = lamda*ran_for.predict(x_dash.reshape(1,-1)) + dist_mad(x_dash.reshape(1,-1), eg_scaled)\n",
    "    return L"
   ]
  },
  {
   "cell_type": "code",
   "execution_count": 1066,
   "metadata": {},
   "outputs": [
    {
     "name": "stdout",
     "output_type": "stream",
     "text": [
      "Iterations:  317\n",
      "Counterfactual point:  [[  0.818 624.75  330.666 117.107   6.991   4.033   0.252   4.028]]\n",
      "with HL prediction of  [[25.577]]\n"
     ]
    }
   ],
   "source": [
    "# initial conditions\n",
    "lamda = 0.1 \n",
    "x0 = data.mean()[:-1].values.reshape(1,-1) # initial guess for cf\n",
    "x0 = x0 + np.random.normal(0,0.1,8) * x0\n",
    "\n",
    "bnds = ((0, 1),(0, 1),(0, 1),(0, 1),(0, 1),(0, 1),(0, 1),(0, 1))\n",
    "res = minimize(loss_function_mad, x0, method='SLSQP', bounds=bnds, options={'maxiter':1000})\n",
    "cf = res.x.reshape(1, -1)\n",
    "\n",
    "cf_score = ran_for.predict(cf)\n",
    "cf_wach_HL = scaler_y.inverse_transform(cf_score.reshape(-1, 1))\n",
    "\n",
    "i=0\n",
    "while HL_target < cf_wach_HL:\n",
    "    lamda += 0.025\n",
    "    x0 = cf # starting point is current cf\n",
    "    res = minimize(loss_function_mad, x0, method='SLSQP', bounds=bnds, options={'maxiter':1000})\n",
    "    cf = res.x.reshape(1, -1)\n",
    "    \n",
    "    cf_score = ran_for.predict(cf)\n",
    "    cf_wach_HL = scaler_y.inverse_transform(cf_score.reshape(-1, 1))\n",
    "    \n",
    "    i += 1\n",
    "    if i == 5000:\n",
    "        print('Error condition not met after',i,'iterations')\n",
    "        break\n",
    "        \n",
    "cf_wach = scaler_X.inverse_transform(cf)\n",
    "        \n",
    "print('Iterations: ',i)\n",
    "print('Counterfactual point: ',cf_wach)\n",
    "print('with HL prediction of ',cf_wach_HL)"
   ]
  },
  {
   "cell_type": "code",
   "execution_count": null,
   "metadata": {},
   "outputs": [],
   "source": []
  },
  {
   "cell_type": "code",
   "execution_count": 1033,
   "metadata": {},
   "outputs": [],
   "source": [
    "def dist_face(x,y):\n",
    "    return cdist(x.reshape(1,-1), y.reshape(1,-1), metric='cityblock')\n",
    "\n",
    "# nearest neighbour\n",
    "dist = DistanceMetric.get_metric('cityblock')\n",
    "def nearest(example):\n",
    "    distances = dist.pairwise(X_scaled, example)\n",
    "    index_min = distances.argmin()\n",
    "    nearest_data = X_scaled.iloc[index_min].values\n",
    "    return nearest_data, index_min"
   ]
  },
  {
   "cell_type": "code",
   "execution_count": 1128,
   "metadata": {},
   "outputs": [],
   "source": [
    "dist_threshold = 1.2\n",
    "density_threshold = 1.5e+9\n",
    "\n",
    "data_example, start_node = nearest(eg_scaled)\n",
    "if dist_face(eg_scaled, data_example)[0][0] > dist_threshold:\n",
    "    print('Data point does not meet distance threshold')"
   ]
  },
  {
   "cell_type": "code",
   "execution_count": 1129,
   "metadata": {},
   "outputs": [],
   "source": [
    "# create weights based on distance threshold\n",
    "kernel = gaussian_kde(X_scaled.values.T)\n",
    "\n",
    "m, n = X_scaled.shape\n",
    "w_ij = [0] * int(m*(m-1)*0.5)\n",
    "edge_weights = []\n",
    "k = 0\n",
    "q = 0\n",
    "for edge_from in range(m):\n",
    "    k = 1 + edge_from\n",
    "    for edge_to in range(k,m):\n",
    "        if dist_face(X_scaled.iloc[edge_from].values, X_scaled.iloc[edge_to].values)[0][0] < dist_threshold:\n",
    "            w_ij[q] = np.log(kernel((X_scaled.iloc[edge_from].values + X_scaled.iloc[edge_to].values)/2)[0] * \\\n",
    "                              dist_face(X_scaled.iloc[edge_from].values, X_scaled.iloc[edge_to].values)[0][0])\n",
    "        edge_weights.append((edge_from, edge_to, {'weight':w_ij[q]}))\n",
    "        q += 1\n",
    "\n",
    "nonzero_edge = []\n",
    "for i in range(len(edge_weights)):\n",
    "    if edge_weights[i][2]['weight'] != 0:\n",
    "        nonzero_edge.append(edge_weights[i])"
   ]
  },
  {
   "cell_type": "code",
   "execution_count": 1130,
   "metadata": {},
   "outputs": [
    {
     "name": "stdout",
     "output_type": "stream",
     "text": [
      "nodes that meet density theshold:  672\n",
      "edges that meet distance theshold:  26048\n"
     ]
    }
   ],
   "source": [
    "# create graph with nodes that meet density threshold\n",
    "G = nx.Graph()\n",
    "\n",
    "G.add_nodes_from(range(len(X_scaled)))\n",
    "G.add_edges_from(nonzero_edge)\n",
    "\n",
    "low_density = []\n",
    "for i in range(m):\n",
    "    if kernel(X_scaled.iloc[i].values) < density_threshold:\n",
    "        low_density.append(i)\n",
    "G.remove_nodes_from(low_density)\n",
    "\n",
    "print('nodes that meet density theshold: ', G.number_of_nodes())\n",
    "print('edges that meet distance theshold: ', G.number_of_edges())"
   ]
  },
  {
   "cell_type": "code",
   "execution_count": 1131,
   "metadata": {},
   "outputs": [],
   "source": [
    "target_nodes = list(G.nodes())\n",
    "index = [i for i,node in enumerate(target_nodes) if node == start_node][0]\n",
    "del target_nodes[index]\n",
    "\n",
    "pred_threshold_fail = []\n",
    "for i in range(len(X_scaled)):\n",
    "    face_score = ran_for.predict(X_scaled.iloc[i].values.reshape(1,-1))\n",
    "    face_HL = scaler_y.inverse_transform(face_score.reshape(1, -1))\n",
    "    if face_HL > HL_target:\n",
    "        pred_threshold_fail.append(i)\n",
    "\n",
    "length, path = nx.multi_source_dijkstra(G,target_nodes,target=start_node)\n",
    "path = path[::-1]\n",
    "\n",
    "while path[-1] in pred_threshold_fail:\n",
    "    index = [i for i,node in enumerate(target_nodes) if node == path[-1]][0]\n",
    "    del target_nodes[index]\n",
    "          \n",
    "    length, path = nx.multi_source_dijkstra(G,target_nodes,target=start_node)\n",
    "    path = path[::-1]"
   ]
  },
  {
   "cell_type": "code",
   "execution_count": 1132,
   "metadata": {},
   "outputs": [
    {
     "name": "stdout",
     "output_type": "stream",
     "text": [
      "Path point 1:  ['X1: 0.82', 'X2: 612.5', 'X3: 318.5', 'X4: 147.0', 'X5: 7.0', 'X6: 4.0', 'X7: 0.25', 'X8: 4.0']\n",
      "Final point HL: 25.4\n"
     ]
    }
   ],
   "source": [
    "for i, node in enumerate(path[1:]):\n",
    "    point = scaler_X.inverse_transform(X_scaled.iloc[node].values.reshape(1, -1))\n",
    "    print(f'Path point {i+1}: ',[(f'X{j+1}: {round(point[0][j],2)}') for j in range(8)])\n",
    "\n",
    "    face_score = ran_for.predict(X_scaled.iloc[path[-1]].values.reshape(1,-1))\n",
    "face_HL = scaler_y.inverse_transform(face_score.reshape(1, -1))\n",
    "print('Final point HL:',round(face_HL[0][0],1))"
   ]
  },
  {
   "cell_type": "code",
   "execution_count": 1099,
   "metadata": {},
   "outputs": [
    {
     "data": {
      "text/html": [
       "<div>\n",
       "<style scoped>\n",
       "    .dataframe tbody tr th:only-of-type {\n",
       "        vertical-align: middle;\n",
       "    }\n",
       "\n",
       "    .dataframe tbody tr th {\n",
       "        vertical-align: top;\n",
       "    }\n",
       "\n",
       "    .dataframe thead th {\n",
       "        text-align: right;\n",
       "    }\n",
       "</style>\n",
       "<table border=\"1\" class=\"dataframe\">\n",
       "  <thead>\n",
       "    <tr style=\"text-align: right;\">\n",
       "      <th></th>\n",
       "      <th>X1</th>\n",
       "      <th>X2</th>\n",
       "      <th>X3</th>\n",
       "      <th>X4</th>\n",
       "      <th>X5</th>\n",
       "      <th>X6</th>\n",
       "      <th>X7</th>\n",
       "      <th>X8</th>\n",
       "      <th>Y1</th>\n",
       "    </tr>\n",
       "  </thead>\n",
       "  <tbody>\n",
       "    <tr>\n",
       "      <td>count</td>\n",
       "      <td>768.000000</td>\n",
       "      <td>768.000000</td>\n",
       "      <td>768.000000</td>\n",
       "      <td>768.000000</td>\n",
       "      <td>768.00000</td>\n",
       "      <td>768.000000</td>\n",
       "      <td>768.000000</td>\n",
       "      <td>768.00000</td>\n",
       "      <td>768.000000</td>\n",
       "    </tr>\n",
       "    <tr>\n",
       "      <td>mean</td>\n",
       "      <td>0.764167</td>\n",
       "      <td>671.708333</td>\n",
       "      <td>318.500000</td>\n",
       "      <td>176.604167</td>\n",
       "      <td>5.25000</td>\n",
       "      <td>3.500000</td>\n",
       "      <td>0.234375</td>\n",
       "      <td>2.81250</td>\n",
       "      <td>22.307195</td>\n",
       "    </tr>\n",
       "    <tr>\n",
       "      <td>std</td>\n",
       "      <td>0.105777</td>\n",
       "      <td>88.086116</td>\n",
       "      <td>43.626481</td>\n",
       "      <td>45.165950</td>\n",
       "      <td>1.75114</td>\n",
       "      <td>1.118763</td>\n",
       "      <td>0.133221</td>\n",
       "      <td>1.55096</td>\n",
       "      <td>10.090204</td>\n",
       "    </tr>\n",
       "    <tr>\n",
       "      <td>min</td>\n",
       "      <td>0.620000</td>\n",
       "      <td>514.500000</td>\n",
       "      <td>245.000000</td>\n",
       "      <td>110.250000</td>\n",
       "      <td>3.50000</td>\n",
       "      <td>2.000000</td>\n",
       "      <td>0.000000</td>\n",
       "      <td>0.00000</td>\n",
       "      <td>6.010000</td>\n",
       "    </tr>\n",
       "    <tr>\n",
       "      <td>25%</td>\n",
       "      <td>0.682500</td>\n",
       "      <td>606.375000</td>\n",
       "      <td>294.000000</td>\n",
       "      <td>140.875000</td>\n",
       "      <td>3.50000</td>\n",
       "      <td>2.750000</td>\n",
       "      <td>0.100000</td>\n",
       "      <td>1.75000</td>\n",
       "      <td>12.992500</td>\n",
       "    </tr>\n",
       "    <tr>\n",
       "      <td>50%</td>\n",
       "      <td>0.750000</td>\n",
       "      <td>673.750000</td>\n",
       "      <td>318.500000</td>\n",
       "      <td>183.750000</td>\n",
       "      <td>5.25000</td>\n",
       "      <td>3.500000</td>\n",
       "      <td>0.250000</td>\n",
       "      <td>3.00000</td>\n",
       "      <td>18.950000</td>\n",
       "    </tr>\n",
       "    <tr>\n",
       "      <td>75%</td>\n",
       "      <td>0.830000</td>\n",
       "      <td>741.125000</td>\n",
       "      <td>343.000000</td>\n",
       "      <td>220.500000</td>\n",
       "      <td>7.00000</td>\n",
       "      <td>4.250000</td>\n",
       "      <td>0.400000</td>\n",
       "      <td>4.00000</td>\n",
       "      <td>31.667500</td>\n",
       "    </tr>\n",
       "    <tr>\n",
       "      <td>max</td>\n",
       "      <td>0.980000</td>\n",
       "      <td>808.500000</td>\n",
       "      <td>416.500000</td>\n",
       "      <td>220.500000</td>\n",
       "      <td>7.00000</td>\n",
       "      <td>5.000000</td>\n",
       "      <td>0.400000</td>\n",
       "      <td>5.00000</td>\n",
       "      <td>43.100000</td>\n",
       "    </tr>\n",
       "  </tbody>\n",
       "</table>\n",
       "</div>"
      ],
      "text/plain": [
       "               X1          X2          X3          X4         X5          X6  \\\n",
       "count  768.000000  768.000000  768.000000  768.000000  768.00000  768.000000   \n",
       "mean     0.764167  671.708333  318.500000  176.604167    5.25000    3.500000   \n",
       "std      0.105777   88.086116   43.626481   45.165950    1.75114    1.118763   \n",
       "min      0.620000  514.500000  245.000000  110.250000    3.50000    2.000000   \n",
       "25%      0.682500  606.375000  294.000000  140.875000    3.50000    2.750000   \n",
       "50%      0.750000  673.750000  318.500000  183.750000    5.25000    3.500000   \n",
       "75%      0.830000  741.125000  343.000000  220.500000    7.00000    4.250000   \n",
       "max      0.980000  808.500000  416.500000  220.500000    7.00000    5.000000   \n",
       "\n",
       "               X7         X8          Y1  \n",
       "count  768.000000  768.00000  768.000000  \n",
       "mean     0.234375    2.81250   22.307195  \n",
       "std      0.133221    1.55096   10.090204  \n",
       "min      0.000000    0.00000    6.010000  \n",
       "25%      0.100000    1.75000   12.992500  \n",
       "50%      0.250000    3.00000   18.950000  \n",
       "75%      0.400000    4.00000   31.667500  \n",
       "max      0.400000    5.00000   43.100000  "
      ]
     },
     "execution_count": 1099,
     "metadata": {},
     "output_type": "execute_result"
    }
   ],
   "source": [
    "data.describe()"
   ]
  },
  {
   "cell_type": "code",
   "execution_count": 1100,
   "metadata": {},
   "outputs": [
    {
     "name": "stdout",
     "output_type": "stream",
     "text": [
      "Example:  ['X1: 0.82', 'X2: 637.0', 'X3: 367.5', 'X4: 122.5', 'X5: 7.0', 'X6: 4.0', 'X7: 0.25', 'X8: 4.0']\n",
      "Example HL: 34.4\n",
      "Target HL: 27.6\n"
     ]
    }
   ],
   "source": [
    "print('Example: ',[(f'X{i+1}: {example[0][i]}') for i in range(8)])\n",
    "print('Example HL:',round(eg_HL[0][0],1))\n",
    "print('Target HL:',round(HL_target[0][0],1))"
   ]
  },
  {
   "cell_type": "code",
   "execution_count": 1101,
   "metadata": {},
   "outputs": [
    {
     "name": "stdout",
     "output_type": "stream",
     "text": [
      "Nearest neighbour cf  ['X1: 0.76', 'X2: 661.5', 'X3: 416.5', 'X4: 122.5', 'X5: 7.0', 'X6: 4.0', 'X7: 0.0', 'X8: 0.0']\n",
      "CF HL: 24.77\n"
     ]
    }
   ],
   "source": [
    "print('Nearest neighbour cf ',[(f'X{i+1}: {cf_nn[i]}') for i in range(8)])\n",
    "print('CF HL:',cf_nn_HL)"
   ]
  },
  {
   "cell_type": "code",
   "execution_count": 1102,
   "metadata": {},
   "outputs": [
    {
     "name": "stdout",
     "output_type": "stream",
     "text": [
      "Wachter cf:  ['X1: 0.8', 'X2: 624.7', 'X3: 330.7', 'X4: 117.1', 'X5: 7.0', 'X6: 4.0', 'X7: 0.3', 'X8: 4.0']\n",
      "CF HL: 25.6\n"
     ]
    }
   ],
   "source": [
    "print('Wachter cf: ',[(f'X{i+1}: {round(cf_wach[0][i],1)}') for i in range(8)])\n",
    "print('CF HL:',round(cf_wach_HL[0][0],1))"
   ]
  },
  {
   "cell_type": "code",
   "execution_count": 1103,
   "metadata": {},
   "outputs": [
    {
     "name": "stdout",
     "output_type": "stream",
     "text": [
      "Path point 1:  ['X1: 0.8', 'X2: 612.5', 'X3: 318.5', 'X4: 147.0', 'X5: 7.0', 'X6: 4.0', 'X7: 0.2', 'X8: 4.0']\n",
      "Final point HL: 25.4\n"
     ]
    }
   ],
   "source": [
    "for i, node in enumerate(path[1:]):\n",
    "    point = scaler_X.inverse_transform(X_scaled.iloc[node].values.reshape(1, -1))\n",
    "    print(f'Path point {i+1}: ',[(f'X{j+1}: {round(point[0][j],1)}') for j in range(8)])\n",
    "face_score = ran_for.predict(X_scaled.iloc[path[-1]].values.reshape(1,-1))\n",
    "face_HL = scaler_y.inverse_transform(face_score.reshape(1, -1))\n",
    "print('Final point HL:',round(face_HL[0][0],1))"
   ]
  },
  {
   "cell_type": "code",
   "execution_count": null,
   "metadata": {},
   "outputs": [],
   "source": []
  },
  {
   "cell_type": "code",
   "execution_count": null,
   "metadata": {},
   "outputs": [],
   "source": []
  }
 ],
 "metadata": {
  "kernelspec": {
   "display_name": "Python 3",
   "language": "python",
   "name": "python3"
  },
  "language_info": {
   "codemirror_mode": {
    "name": "ipython",
    "version": 3
   },
   "file_extension": ".py",
   "mimetype": "text/x-python",
   "name": "python",
   "nbconvert_exporter": "python",
   "pygments_lexer": "ipython3",
   "version": "3.7.4"
  }
 },
 "nbformat": 4,
 "nbformat_minor": 2
}
